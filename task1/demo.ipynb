{
 "cells": [
  {
   "cell_type": "code",
   "execution_count": null,
   "id": "initial_id",
   "metadata": {
    "collapsed": true
   },
   "outputs": [],
   "source": [
    "import pandas as pd\n",
    "import numpy as np\n",
    "import matplotlib.pyplot as plt\n",
    "import tensorflow as tf\n",
    "import seaborn as sns\n",
    "\n",
    "from task1.utils.data_loader import load_mnist_data"
   ]
  },
  {
   "cell_type": "code",
   "outputs": [],
   "source": [
    "x_train, y_train, x_test, y_test = load_mnist_data()"
   ],
   "metadata": {
    "collapsed": false
   },
   "id": "13a44db8dda8b0c8",
   "execution_count": null
  },
  {
   "cell_type": "code",
   "outputs": [],
   "source": [
    "def show_row(data, label):\n",
    "    img = data.reshape([28, 28])\n",
    "\n",
    "    plt.figure(figsize=(3,3))\n",
    "    plt.imshow(img, cmap='Greys_r') # reversed colour for better visibility\n",
    "    plt.title(f'Label: {label}')\n",
    "    plt.axis('off')\n",
    "    plt.show()"
   ],
   "metadata": {
    "collapsed": false
   },
   "id": "52bcbe45fb15ab06",
   "execution_count": null
  },
  {
   "cell_type": "code",
   "outputs": [],
   "source": [
    "row = 7\n",
    "show_row(x_train[row], y_train[row])"
   ],
   "metadata": {
    "collapsed": false
   },
   "id": "14e7b70be32372cf",
   "execution_count": null
  },
  {
   "cell_type": "code",
   "outputs": [],
   "source": [
    "def visualise(data, labels):\n",
    "    plt.figure(figsize=(15, 5))\n",
    "\n",
    "    num_rows_to_show = 10\n",
    "    row_nums = np.random.randint(data.shape[0], size=num_rows_to_show)\n",
    "    \n",
    "    for i, row_num in enumerate(row_nums):\n",
    "        img = data[row_num].reshape([28, 28])\n",
    "        label = labels[row_num]\n",
    "    \n",
    "        plt.subplot(1, num_rows_to_show, i + 1)\n",
    "        plt.imshow(img, cmap='Greys_r')\n",
    "        plt.title(f'Label: {label}')\n",
    "        plt.axis('off')\n",
    "    \n",
    "    plt.tight_layout()\n",
    "    plt.show()"
   ],
   "metadata": {
    "collapsed": false
   },
   "id": "95e64d1f28f8ff22",
   "execution_count": null
  },
  {
   "cell_type": "code",
   "outputs": [],
   "source": [
    "visualise(x_train, y_train)"
   ],
   "metadata": {
    "collapsed": false
   },
   "id": "29f90b15a8fff35e",
   "execution_count": null
  },
  {
   "cell_type": "code",
   "outputs": [],
   "source": [
    "from sklearn.metrics import confusion_matrix, accuracy_score, precision_score, recall_score, f1_score, classification_report\n",
    "\n",
    "def evaluate_model(model, test_y, predictions):\n",
    "    accuracy = accuracy_score(test_y, predictions)\n",
    "    precision = precision_score(test_y, predictions, average='weighted')\n",
    "    recall = recall_score(test_y, predictions, average='weighted')\n",
    "    f1 = f1_score(test_y, predictions, average='weighted')\n",
    "\n",
    "    print(f\"Accuracy: {accuracy:.4f}\")\n",
    "    print(f\"Precision: {precision:.4f}\")\n",
    "    print(f\"Recall: {recall:.4f}\")\n",
    "    print(f\"F1 Score: {f1:.4f}\")\n",
    "    print(f\"Classification report{classification_report(test_y, predictions)}\")\n",
    "\n",
    "    cm = confusion_matrix(test_y, predictions)\n",
    "    plt.figure(figsize=(6,4))\n",
    "    sns.heatmap(cm, annot=True, fmt='d', cmap='Blues', xticklabels=[\"F\", \"T\"], yticklabels=[\"F\", \"T\"])\n",
    "    plt.show()"
   ],
   "metadata": {
    "collapsed": false
   },
   "id": "796eb0291af6d4a7",
   "execution_count": null
  },
  {
   "cell_type": "code",
   "outputs": [],
   "source": [
    "from task1.models.mnist_classifier import MnistClassifier\n",
    "\n",
    "classifier = MnistClassifier(algorithm='rf')\n",
    "classifier.train(x_train, y_train)\n",
    "predictions = classifier.predict(x_test)"
   ],
   "metadata": {
    "collapsed": false
   },
   "id": "ca83940c539e9528",
   "execution_count": null
  },
  {
   "cell_type": "code",
   "outputs": [],
   "source": [
    "evaluate_model(classifier, y_test, predictions)"
   ],
   "metadata": {
    "collapsed": false
   },
   "id": "9aa133ba84f03837",
   "execution_count": null
  }
 ],
 "metadata": {
  "kernelspec": {
   "display_name": "Python 3",
   "language": "python",
   "name": "python3"
  },
  "language_info": {
   "codemirror_mode": {
    "name": "ipython",
    "version": 2
   },
   "file_extension": ".py",
   "mimetype": "text/x-python",
   "name": "python",
   "nbconvert_exporter": "python",
   "pygments_lexer": "ipython2",
   "version": "2.7.6"
  }
 },
 "nbformat": 4,
 "nbformat_minor": 5
}
