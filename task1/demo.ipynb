{
 "cells": [
  {
   "cell_type": "markdown",
   "source": [
    "## This notebook contains demo solution of Task 1  "
   ],
   "metadata": {
    "collapsed": false
   },
   "id": "a7efef0af5d0a5a2"
  },
  {
   "cell_type": "code",
   "execution_count": 1,
   "id": "initial_id",
   "metadata": {
    "collapsed": true,
    "ExecuteTime": {
     "end_time": "2025-02-24T03:21:07.492644Z",
     "start_time": "2025-02-24T03:21:01.815741Z"
    }
   },
   "outputs": [],
   "source": [
    "import numpy as np\n",
    "import matplotlib.pyplot as plt\n",
    "import seaborn as sns\n",
    "\n",
    "from task1.utils.data_loader import load_mnist_data"
   ]
  },
  {
   "cell_type": "markdown",
   "source": [
    "### Explore MNIST dataset"
   ],
   "metadata": {
    "collapsed": false
   },
   "id": "b56418e108e3aec8"
  },
  {
   "cell_type": "code",
   "outputs": [],
   "source": [
    "X_train, y_train, X_test, y_test = load_mnist_data()"
   ],
   "metadata": {
    "collapsed": false,
    "ExecuteTime": {
     "end_time": "2025-02-24T03:21:13.002840Z",
     "start_time": "2025-02-24T03:21:11.936279Z"
    }
   },
   "id": "13a44db8dda8b0c8",
   "execution_count": 2
  },
  {
   "cell_type": "code",
   "outputs": [],
   "source": [
    "def show_row(data, label):\n",
    "    img = data.reshape([28, 28])\n",
    "\n",
    "    plt.figure(figsize=(3,3))\n",
    "    plt.imshow(img, cmap='Greys_r') # reversed colour for better visibility\n",
    "    plt.title(f'Label: {label}')\n",
    "    plt.axis('off')\n",
    "    plt.show()"
   ],
   "metadata": {
    "collapsed": false,
    "ExecuteTime": {
     "end_time": "2025-02-24T03:21:13.012806Z",
     "start_time": "2025-02-24T03:21:13.005015Z"
    }
   },
   "id": "52bcbe45fb15ab06",
   "execution_count": 3
  },
  {
   "cell_type": "code",
   "outputs": [
    {
     "data": {
      "text/plain": "<Figure size 300x300 with 1 Axes>",
      "image/png": "[encoded data removed]"
     },
     "metadata": {},
     "output_type": "display_data"
    }
   ],
   "source": [
    "row = 7\n",
    "show_row(X_train[row], y_train[row])"
   ],
   "metadata": {
    "collapsed": false,
    "ExecuteTime": {
     "end_time": "2025-02-24T03:21:13.174587Z",
     "start_time": "2025-02-24T03:21:13.014923Z"
    }
   },
   "id": "14e7b70be32372cf",
   "execution_count": 4
  },
  {
   "cell_type": "code",
   "outputs": [],
   "source": [
    "def visualise(data, labels):\n",
    "    plt.figure(figsize=(15, 5))\n",
    "\n",
    "    num_rows_to_show = 10\n",
    "    row_nums = np.random.randint(data.shape[0], size=num_rows_to_show)\n",
    "    \n",
    "    for i, row_num in enumerate(row_nums):\n",
    "        img = data[row_num].reshape([28, 28])\n",
    "        label = labels[row_num]\n",
    "    \n",
    "        plt.subplot(1, num_rows_to_show, i + 1)\n",
    "        plt.imshow(img, cmap='Greys_r')\n",
    "        plt.title(f'Label: {label}')\n",
    "        plt.axis('off')\n",
    "    \n",
    "    plt.tight_layout()\n",
    "    plt.show()"
   ],
   "metadata": {
    "collapsed": false,
    "ExecuteTime": {
     "end_time": "2025-02-24T03:21:13.191967Z",
     "start_time": "2025-02-24T03:21:13.176947Z"
    }
   },
   "id": "95e64d1f28f8ff22",
   "execution_count": 5
  },
  {
   "cell_type": "code",
   "outputs": [
    {
     "data": {
      "text/plain": "<Figure size 1500x500 with 10 Axes>",
      "image/png": "[encoded data removed]"
     },
     "metadata": {},
     "output_type": "display_data"
    }
   ],
   "source": [
    "visualise(X_train, y_train)"
   ],
   "metadata": {
    "collapsed": false,
    "ExecuteTime": {
     "end_time": "2025-02-24T03:21:13.796394Z",
     "start_time": "2025-02-24T03:21:13.194235Z"
    }
   },
   "id": "29f90b15a8fff35e",
   "execution_count": 6
  },
  {
   "cell_type": "markdown",
   "source": [
    "### Model Training"
   ],
   "metadata": {
    "collapsed": false
   },
   "id": "78747382a24f6d7c"
  },
  {
   "cell_type": "code",
   "outputs": [],
   "source": [
    "from sklearn.metrics import confusion_matrix, accuracy_score, precision_score, recall_score, f1_score\n",
    "\n",
    "def evaluate_model(model, test_y, predictions):\n",
    "    accuracy = accuracy_score(test_y, predictions)\n",
    "    precision = precision_score(test_y, predictions, average='weighted')\n",
    "    recall = recall_score(test_y, predictions, average='weighted')\n",
    "    f1 = f1_score(test_y, predictions, average='weighted')\n",
    "\n",
    "    print(f\"Accuracy: {accuracy:.4f}\")\n",
    "    print(f\"Precision: {precision:.4f}\")\n",
    "    print(f\"Recall: {recall:.4f}\")\n",
    "    print(f\"F1 Score: {f1:.4f}\")\n",
    "\n",
    "    labels = ['0', '1', '2', '3', '4', '5', '6', '7', '8', '9']\n",
    "    cm = confusion_matrix(test_y, predictions)\n",
    "    plt.figure(figsize=(6,4))\n",
    "    sns.heatmap(cm, annot=True, fmt='d', cmap='Blues', xticklabels=labels, yticklabels=labels)\n",
    "    plt.show()"
   ],
   "metadata": {
    "collapsed": false,
    "ExecuteTime": {
     "end_time": "2025-02-24T03:21:13.958807Z",
     "start_time": "2025-02-24T03:21:13.798584Z"
    }
   },
   "id": "796eb0291af6d4a7",
   "execution_count": 7
  },
  {
   "cell_type": "code",
   "outputs": [],
   "source": [
    "from task1.models.mnist_classifier import MnistClassifier"
   ],
   "metadata": {
    "collapsed": false,
    "ExecuteTime": {
     "end_time": "2025-02-24T03:21:14.565655Z",
     "start_time": "2025-02-24T03:21:13.959979Z"
    }
   },
   "id": "414f41453878f2b8",
   "execution_count": 8
  },
  {
   "cell_type": "markdown",
   "source": [
    "### Random Forest"
   ],
   "metadata": {
    "collapsed": false
   },
   "id": "d6ba9cc2800f91a9"
  },
  {
   "cell_type": "code",
   "outputs": [],
   "source": [
    "rf = MnistClassifier(algorithm='rf')\n",
    "rf.train(X_train, y_train)"
   ],
   "metadata": {
    "collapsed": false,
    "ExecuteTime": {
     "end_time": "2025-02-24T03:21:37.605407Z",
     "start_time": "2025-02-24T03:21:14.568013Z"
    }
   },
   "id": "ca83940c539e9528",
   "execution_count": 9
  },
  {
   "cell_type": "markdown",
   "source": [
    "### CNN"
   ],
   "metadata": {
    "collapsed": false
   },
   "id": "875e4b8deaa273e7"
  },
  {
   "cell_type": "code",
   "outputs": [
    {
     "name": "stdout",
     "output_type": "stream",
     "text": [
      "Epoch 1/5\n",
      "\u001B[1m1875/1875\u001B[0m \u001B[32m━━━━━━━━━━━━━━━━━━━━\u001B[0m\u001B[37m\u001B[0m \u001B[1m20s\u001B[0m 10ms/step - accuracy: 0.9070 - loss: 0.2986\n",
      "Epoch 2/5\n",
      "\u001B[1m1875/1875\u001B[0m \u001B[32m━━━━━━━━━━━━━━━━━━━━\u001B[0m\u001B[37m\u001B[0m \u001B[1m18s\u001B[0m 9ms/step - accuracy: 0.9857 - loss: 0.0457\n",
      "Epoch 3/5\n",
      "\u001B[1m1875/1875\u001B[0m \u001B[32m━━━━━━━━━━━━━━━━━━━━\u001B[0m\u001B[37m\u001B[0m \u001B[1m18s\u001B[0m 9ms/step - accuracy: 0.9904 - loss: 0.0314\n",
      "Epoch 4/5\n",
      "\u001B[1m1875/1875\u001B[0m \u001B[32m━━━━━━━━━━━━━━━━━━━━\u001B[0m\u001B[37m\u001B[0m \u001B[1m20s\u001B[0m 9ms/step - accuracy: 0.9940 - loss: 0.0203\n",
      "Epoch 5/5\n",
      "\u001B[1m1875/1875\u001B[0m \u001B[32m━━━━━━━━━━━━━━━━━━━━\u001B[0m\u001B[37m\u001B[0m \u001B[1m18s\u001B[0m 10ms/step - accuracy: 0.9951 - loss: 0.0139\n"
     ]
    }
   ],
   "source": [
    "cnn = MnistClassifier(algorithm='cnn')\n",
    "cnn.train(X_train, y_train)"
   ],
   "metadata": {
    "collapsed": false,
    "ExecuteTime": {
     "end_time": "2025-02-24T03:23:12.041398Z",
     "start_time": "2025-02-24T03:21:37.606527Z"
    }
   },
   "id": "b9e24f90c5e09bc9",
   "execution_count": 10
  },
  {
   "cell_type": "markdown",
   "source": [
    "### FNN"
   ],
   "metadata": {
    "collapsed": false
   },
   "id": "2856b22618a50261"
  },
  {
   "cell_type": "code",
   "outputs": [
    {
     "name": "stdout",
     "output_type": "stream",
     "text": [
      "Epoch 1/5\n",
      "\u001B[1m1875/1875\u001B[0m \u001B[32m━━━━━━━━━━━━━━━━━━━━\u001B[0m\u001B[37m\u001B[0m \u001B[1m6s\u001B[0m 3ms/step - accuracy: 0.8789 - loss: 0.4215\n",
      "Epoch 2/5\n",
      "\u001B[1m1875/1875\u001B[0m \u001B[32m━━━━━━━━━━━━━━━━━━━━\u001B[0m\u001B[37m\u001B[0m \u001B[1m5s\u001B[0m 3ms/step - accuracy: 0.9694 - loss: 0.1020\n",
      "Epoch 3/5\n",
      "\u001B[1m1875/1875\u001B[0m \u001B[32m━━━━━━━━━━━━━━━━━━━━\u001B[0m\u001B[37m\u001B[0m \u001B[1m6s\u001B[0m 3ms/step - accuracy: 0.9797 - loss: 0.0662\n",
      "Epoch 4/5\n",
      "\u001B[1m1875/1875\u001B[0m \u001B[32m━━━━━━━━━━━━━━━━━━━━\u001B[0m\u001B[37m\u001B[0m \u001B[1m5s\u001B[0m 3ms/step - accuracy: 0.9844 - loss: 0.0495\n",
      "Epoch 5/5\n",
      "\u001B[1m1875/1875\u001B[0m \u001B[32m━━━━━━━━━━━━━━━━━━━━\u001B[0m\u001B[37m\u001B[0m \u001B[1m5s\u001B[0m 3ms/step - accuracy: 0.9867 - loss: 0.0395\n"
     ]
    }
   ],
   "source": [
    "fnn = MnistClassifier(algorithm='nn')\n",
    "fnn.train(X_train, y_train)"
   ],
   "metadata": {
    "collapsed": false,
    "ExecuteTime": {
     "end_time": "2025-02-24T03:23:39.937248Z",
     "start_time": "2025-02-24T03:23:12.043677Z"
    }
   },
   "id": "94a3069df0b67941",
   "execution_count": 11
  },
  {
   "cell_type": "code",
   "outputs": [
    {
     "name": "stdout",
     "output_type": "stream",
     "text": [
      "\u001B[1m1/1\u001B[0m \u001B[32m━━━━━━━━━━━━━━━━━━━━\u001B[0m\u001B[37m\u001B[0m \u001B[1m0s\u001B[0m 43ms/step\n",
      "\u001B[1m1/1\u001B[0m \u001B[32m━━━━━━━━━━━━━━━━━━━━\u001B[0m\u001B[37m\u001B[0m \u001B[1m0s\u001B[0m 48ms/step\n",
      "\u001B[1m1/1\u001B[0m \u001B[32m━━━━━━━━━━━━━━━━━━━━\u001B[0m\u001B[37m\u001B[0m \u001B[1m0s\u001B[0m 47ms/step\n",
      "\u001B[1m1/1\u001B[0m \u001B[32m━━━━━━━━━━━━━━━━━━━━\u001B[0m\u001B[37m\u001B[0m \u001B[1m0s\u001B[0m 44ms/step\n",
      "\u001B[1m1/1\u001B[0m \u001B[32m━━━━━━━━━━━━━━━━━━━━\u001B[0m\u001B[37m\u001B[0m \u001B[1m0s\u001B[0m 41ms/step\n",
      "\u001B[1m1/1\u001B[0m \u001B[32m━━━━━━━━━━━━━━━━━━━━\u001B[0m\u001B[37m\u001B[0m \u001B[1m0s\u001B[0m 40ms/step\n",
      "\u001B[1m1/1\u001B[0m \u001B[32m━━━━━━━━━━━━━━━━━━━━\u001B[0m\u001B[37m\u001B[0m \u001B[1m0s\u001B[0m 42ms/step\n",
      "\u001B[1m1/1\u001B[0m \u001B[32m━━━━━━━━━━━━━━━━━━━━\u001B[0m\u001B[37m\u001B[0m \u001B[1m0s\u001B[0m 40ms/step\n",
      "\u001B[1m1/1\u001B[0m \u001B[32m━━━━━━━━━━━━━━━━━━━━\u001B[0m\u001B[37m\u001B[0m \u001B[1m0s\u001B[0m 40ms/step\n",
      "\u001B[1m1/1\u001B[0m \u001B[32m━━━━━━━━━━━━━━━━━━━━\u001B[0m\u001B[37m\u001B[0m \u001B[1m0s\u001B[0m 38ms/step\n",
      "\u001B[1m1/1\u001B[0m \u001B[32m━━━━━━━━━━━━━━━━━━━━\u001B[0m\u001B[37m\u001B[0m \u001B[1m0s\u001B[0m 41ms/step\n",
      "\u001B[1m1/1\u001B[0m \u001B[32m━━━━━━━━━━━━━━━━━━━━\u001B[0m\u001B[37m\u001B[0m \u001B[1m0s\u001B[0m 42ms/step\n",
      "\u001B[1m1/1\u001B[0m \u001B[32m━━━━━━━━━━━━━━━━━━━━\u001B[0m\u001B[37m\u001B[0m \u001B[1m0s\u001B[0m 43ms/step\n",
      "\u001B[1m1/1\u001B[0m \u001B[32m━━━━━━━━━━━━━━━━━━━━\u001B[0m\u001B[37m\u001B[0m \u001B[1m0s\u001B[0m 40ms/step\n",
      "\u001B[1m1/1\u001B[0m \u001B[32m━━━━━━━━━━━━━━━━━━━━\u001B[0m\u001B[37m\u001B[0m \u001B[1m0s\u001B[0m 39ms/step\n",
      "\u001B[1m1/1\u001B[0m \u001B[32m━━━━━━━━━━━━━━━━━━━━\u001B[0m\u001B[37m\u001B[0m \u001B[1m0s\u001B[0m 40ms/step\n",
      "\u001B[1m1/1\u001B[0m \u001B[32m━━━━━━━━━━━━━━━━━━━━\u001B[0m\u001B[37m\u001B[0m \u001B[1m0s\u001B[0m 41ms/step\n",
      "\u001B[1m1/1\u001B[0m \u001B[32m━━━━━━━━━━━━━━━━━━━━\u001B[0m\u001B[37m\u001B[0m \u001B[1m0s\u001B[0m 40ms/step\n",
      "\u001B[1m1/1\u001B[0m \u001B[32m━━━━━━━━━━━━━━━━━━━━\u001B[0m\u001B[37m\u001B[0m \u001B[1m0s\u001B[0m 41ms/step\n",
      "\u001B[1m1/1\u001B[0m \u001B[32m━━━━━━━━━━━━━━━━━━━━\u001B[0m\u001B[37m\u001B[0m \u001B[1m0s\u001B[0m 38ms/step\n"
     ]
    },
    {
     "data": {
      "text/plain": "<Figure size 2000x400 with 10 Axes>",
      "image/png": "[encoded data removed]"
     },
     "metadata": {},
     "output_type": "display_data"
    }
   ],
   "source": [
    "num_rows_to_show = 10\n",
    "row_nums = np.random.randint(len(X_test), size=num_rows_to_show)\n",
    "\n",
    "plt.figure(figsize=(num_rows_to_show * 2, 4))\n",
    "\n",
    "for i, row_num in enumerate(row_nums):\n",
    "    row = X_test[row_num]\n",
    "\n",
    "    cnn_pred = cnn.predict(row)\n",
    "    rf_pred = rf.predict(row)\n",
    "    fnn_pred = fnn.predict(row)\n",
    "\n",
    "    img = row.reshape([28, 28])\n",
    "    true_label = y_test[row_num]\n",
    "    \n",
    "    plt.subplot(1, num_rows_to_show, i + 1)\n",
    "    plt.imshow(img, cmap='Greys_r')\n",
    "    plt.title(f'rf: {rf_pred}\\n'\n",
    "              f'cnn: {cnn_pred}\\n'\n",
    "              f'fnn: {fnn_pred}\\n'\n",
    "              f'actual: {true_label}')\n",
    "    plt.axis('off')\n",
    "\n",
    "plt.tight_layout()\n",
    "plt.show()"
   ],
   "metadata": {
    "collapsed": false,
    "ExecuteTime": {
     "end_time": "2025-02-24T03:27:44.985608Z",
     "start_time": "2025-02-24T03:27:42.690314Z"
    }
   },
   "id": "f07db8e8ad484995",
   "execution_count": 13
  },
  {
   "cell_type": "code",
   "outputs": [],
   "source": [],
   "metadata": {
    "collapsed": false
   },
   "id": "725976f66b477bec"
  }
 ],
 "metadata": {
  "kernelspec": {
   "display_name": "Python 3",
   "language": "python",
   "name": "python3"
  },
  "language_info": {
   "codemirror_mode": {
    "name": "ipython",
    "version": 2
   },
   "file_extension": ".py",
   "mimetype": "text/x-python",
   "name": "python",
   "nbconvert_exporter": "python",
   "pygments_lexer": "ipython2",
   "version": "2.7.6"
  }
 },
 "nbformat": 4,
 "nbformat_minor": 5
}
